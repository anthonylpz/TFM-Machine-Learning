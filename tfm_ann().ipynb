{
  "nbformat": 4,
  "nbformat_minor": 0,
  "metadata": {
    "colab": {
      "provenance": []
    },
    "kernelspec": {
      "name": "python3",
      "display_name": "Python 3"
    },
    "language_info": {
      "name": "python"
    }
  },
  "cells": [
    {
      "cell_type": "code",
      "execution_count": null,
      "metadata": {
        "id": "Zkue4JMWxz23"
      },
      "outputs": [],
      "source": [
        "import numpy as np\n",
        "import pandas as pd\n",
        "from keras.models import Sequential\n",
        "from keras.layers import Dense\n",
        "from sklearn.model_selection import train_test_split\n",
        "from sklearn.preprocessing import StandardScaler, LabelEncoder\n",
        "from sklearn.metrics import classification_report, confusion_matrix\n",
        "import matplotlib.pyplot as plt\n",
        "\n",
        "# Parámetros para Cuckoo Search\n",
        "import random\n",
        "\n",
        "# Ignorar warnings\n",
        "import warnings\n",
        "warnings.filterwarnings('ignore')\n"
      ]
    },
    {
      "cell_type": "code",
      "source": [
        "# Carga de datos\n",
        "df = pd.read_csv('datos.csv', encoding='latin1')\n",
        "df.info()"
      ],
      "metadata": {
        "colab": {
          "base_uri": "https://localhost:8080/"
        },
        "id": "ulhYMtdHyucl",
        "outputId": "767e6c51-2f07-4d3f-c40d-8e306cf8cb8c"
      },
      "execution_count": null,
      "outputs": [
        {
          "output_type": "stream",
          "name": "stdout",
          "text": [
            "<class 'pandas.core.frame.DataFrame'>\n",
            "RangeIndex: 166684 entries, 0 to 166683\n",
            "Data columns (total 12 columns):\n",
            " #   Column              Non-Null Count   Dtype \n",
            "---  ------              --------------   ----- \n",
            " 0   ANIO                166684 non-null  int64 \n",
            " 1   PROVINCIA           166684 non-null  object\n",
            " 2   CANTON              166684 non-null  object\n",
            " 3   FECHA               166684 non-null  object\n",
            " 4   HORA                166684 non-null  object\n",
            " 5   TIPO_DE_SINIESTRO   166684 non-null  object\n",
            " 6   TIPO_DE_VEHICULO_1  166684 non-null  object\n",
            " 7   EDAD_1              166684 non-null  int64 \n",
            " 8   SEXO_1              166684 non-null  object\n",
            " 9   CONDICION_1         166684 non-null  object\n",
            " 10  CASCO_1             166684 non-null  object\n",
            " 11  CINTURON_1          166684 non-null  object\n",
            "dtypes: int64(2), object(10)\n",
            "memory usage: 15.3+ MB\n"
          ]
        }
      ]
    },
    {
      "cell_type": "code",
      "source": [
        "# Convertir la columna 'FECHA' a formato de fecha\n",
        "df['FECHA'] = pd.to_datetime(df['FECHA'], format='%d/%m/%Y')\n",
        "\n",
        "# Convertir la columna 'HORA' a formato de tiempo\n",
        "df['HORA'] = pd.to_datetime(df['HORA'], format='%H:%M:%S').dt.hour"
      ],
      "metadata": {
        "id": "on0YftdJyxOf"
      },
      "execution_count": null,
      "outputs": []
    },
    {
      "cell_type": "code",
      "source": [
        "# Codificar las variables categóricas\n",
        "label_encoder = LabelEncoder()\n",
        "df['PROVINCIA'] = label_encoder.fit_transform(df['PROVINCIA'])\n",
        "df['CANTON'] = label_encoder.fit_transform(df['CANTON'])\n",
        "df['TIPO_DE_SINIESTRO'] = label_encoder.fit_transform(df['TIPO_DE_SINIESTRO'])\n",
        "df['TIPO_DE_VEHICULO_1'] = label_encoder.fit_transform(df['TIPO_DE_VEHICULO_1'])\n",
        "df['SEXO_1'] = label_encoder.fit_transform(df['SEXO_1'])\n",
        "df['CONDICION_1'] = label_encoder.fit_transform(df['CONDICION_1'])\n",
        "df['CASCO_1'] = label_encoder.fit_transform(df['CASCO_1'])\n",
        "df['CINTURON_1'] = label_encoder.fit_transform(df['CINTURON_1'])"
      ],
      "metadata": {
        "id": "lZ7jDlEl0G8z"
      },
      "execution_count": null,
      "outputs": []
    },
    {
      "cell_type": "code",
      "source": [
        "# Definir las características (X) y la variable objetivo (y)\n",
        "X = df.drop(['CONDICION_1', 'FECHA'], axis=1)\n",
        "y = df['CONDICION_1']\n",
        "\n",
        "# Escalar las características\n",
        "scaler = StandardScaler()\n",
        "X = scaler.fit_transform(X)"
      ],
      "metadata": {
        "id": "WSxZ_5Qu0J1Q"
      },
      "execution_count": null,
      "outputs": []
    },
    {
      "cell_type": "code",
      "source": [
        "# Dividir los datos en conjuntos de entrenamiento y prueba\n",
        "X_train, X_test, y_train, y_test = train_test_split(X, y, test_size=0.2, random_state=42)"
      ],
      "metadata": {
        "id": "TQw7K5MO0LsD"
      },
      "execution_count": null,
      "outputs": []
    },
    {
      "cell_type": "code",
      "source": [
        "def create_model(optimizer='adam', init='uniform'):\n",
        "    model = Sequential()\n",
        "    model.add(Dense(12, input_dim=X_train.shape[1], kernel_initializer=init, activation='relu'))\n",
        "    model.add(Dense(8, kernel_initializer=init, activation='relu'))\n",
        "    model.add(Dense(1, kernel_initializer=init, activation='sigmoid'))\n",
        "    model.compile(loss='binary_crossentropy', optimizer=optimizer, metrics=['accuracy'])\n",
        "    return model"
      ],
      "metadata": {
        "id": "z0zMtkd70OsF"
      },
      "execution_count": null,
      "outputs": []
    },
    {
      "cell_type": "code",
      "source": [
        "import random\n",
        "\n",
        "def cuckoo_search(nests, pa=0.25, beta=1.5, n_iterations=100):\n",
        "    def levy_flight(Lambda):\n",
        "        sigma1 = (np.math.gamma(1 + Lambda) * np.sin(np.pi * Lambda / 2) /\n",
        "                  (np.math.gamma((1 + Lambda) / 2) * Lambda * 2 ** ((Lambda - 1) / 2))) ** (1 / Lambda)\n",
        "        sigma2 = 1\n",
        "        u = np.random.normal(0, sigma1, size=1)\n",
        "        v = np.random.normal(0, sigma2, size=1)\n",
        "        step = u / abs(v) ** (1 / Lambda)\n",
        "        return step\n",
        "\n",
        "    def get_fitness(nests):\n",
        "        fitness = []\n",
        "        for nest in nests:\n",
        "            model = create_model(optimizer=nest['optimizer'], init=nest['init'])\n",
        "            history = model.fit(X_train, y_train, epochs=10, batch_size=10, verbose=0)\n",
        "            _, accuracy = model.evaluate(X_test, y_test, verbose=0)\n",
        "            fitness.append(accuracy)\n",
        "        return fitness\n",
        "\n",
        "    num_nests = len(nests)\n",
        "    fitness = get_fitness(nests)\n",
        "    best_nest = nests[np.argmax(fitness)]\n",
        "\n",
        "    for _ in range(n_iterations):\n",
        "        new_nests = []\n",
        "        for nest in nests:\n",
        "            step_size = levy_flight(beta)\n",
        "            new_nest = {key: nest[key] for key in nest}\n",
        "            new_nest['optimizer'] = np.random.choice(['adam', 'sgd', 'rmsprop', 'adagrad'])\n",
        "            new_nest['init'] = np.random.choice(['uniform', 'normal', 'he_normal'])\n",
        "            new_nests.append(new_nest)\n",
        "\n",
        "        new_fitness = get_fitness(new_nests)\n",
        "        for i in range(num_nests):\n",
        "            if new_fitness[i] > fitness[i]:\n",
        "                nests[i] = new_nests[i]\n",
        "                fitness[i] = new_fitness[i]\n",
        "\n",
        "        best_nest = nests[np.argmax(fitness)]\n",
        "        # Abandono aleatorio\n",
        "        for nest in nests:\n",
        "            if random.uniform(0, 1) < pa:\n",
        "                nest['optimizer'] = np.random.choice(['adam', 'sgd', 'rmsprop', 'adagrad'])\n",
        "                nest['init'] = np.random.choice(['uniform', 'normal', 'he_normal'])\n",
        "\n",
        "    return best_nest\n",
        "\n",
        "# Inicializar nidos\n",
        "nests = [{'optimizer': 'adam', 'init': 'uniform'} for _ in range(10)]\n",
        "\n",
        "# Ejecutar la búsqueda Cuckoo\n",
        "best_params = cuckoo_search(nests)\n",
        "\n",
        "# Crear el modelo con los mejores parámetros encontrados\n",
        "model = create_model(optimizer=best_params['optimizer'], init=best_params['init'])\n"
      ],
      "metadata": {
        "id": "SZJuW_t80Rpz"
      },
      "execution_count": null,
      "outputs": []
    }
  ]
}